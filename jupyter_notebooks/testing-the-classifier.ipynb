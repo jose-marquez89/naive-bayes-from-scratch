{
 "cells": [
  {
   "cell_type": "markdown",
   "metadata": {},
   "source": [
    "# Testing The Nayes Classifier\n",
    "In this notebook, I test the accuracy of the \"Nayes\" multinomial classifier against the sklearn library's algorithm of the same type."
   ]
  },
  {
   "cell_type": "code",
   "execution_count": 1,
   "metadata": {},
   "outputs": [],
   "source": [
    "import pandas as pd\n",
    "from sklearn.feature_extraction.text import CountVectorizer\n",
    "from sklearn.model_selection import train_test_split\n",
    "from sklearn.naive_bayes import MultinomialNB\n",
    "from sklearn.metrics import accuracy_score\n",
    "from nayes import MultiNayes"
   ]
  },
  {
   "cell_type": "code",
   "execution_count": 2,
   "metadata": {},
   "outputs": [],
   "source": [
    "# import the movie review data\n",
    "imdb_cols = [\"review\", \"sentiment\"]\n",
    "imdb = pd.read_csv(\"imdb_labelled.txt\", sep=\"\\t\", names=imdb_cols)\n",
    "\n",
    "# prepare and preprocess the text for vectorization\n",
    "imdb[\"review\"] = imdb[\"review\"].str.strip()\n",
    "imdb[\"review\"] = imdb[\"review\"].str.replace(r\"[^\\w\\s-]\", \"\")\n",
    "imdb[\"review\"] = imdb[\"review\"].str.replace(r\"\\-\", \" \")\n",
    "imdb[\"review\"] = imdb[\"review\"].str.replace(r\"\\s{2,}\", \" \")\n",
    "imdb[\"review\"] = imdb[\"review\"].str.lower()\n",
    "\n",
    "# vectorize the text\n",
    "vectorizer = CountVectorizer()\n",
    "\n",
    "X = vectorizer.fit_transform(imdb[\"review\"])\n",
    "y = imdb[\"sentiment\"].values\n",
    "\n",
    "# split into train and test\n",
    "X_train, X_test, y_train, y_test = train_test_split(X, y,\n",
    "                                                    test_size=0.20,\n",
    "                                                    random_state=42)"
   ]
  },
  {
   "cell_type": "markdown",
   "metadata": {},
   "source": [
    "### Fit and Predict"
   ]
  },
  {
   "cell_type": "code",
   "execution_count": 3,
   "metadata": {},
   "outputs": [],
   "source": [
    "sklearn_classifier = MultinomialNB()\n",
    "nayes = MultiNayes()\n",
    "\n",
    "sklearn_classifier.fit(X_train, y_train)\n",
    "nayes.fit(X_train, y_train)"
   ]
  },
  {
   "cell_type": "code",
   "execution_count": 4,
   "metadata": {},
   "outputs": [
    {
     "name": "stdout",
     "output_type": "stream",
     "text": [
      "Scikit-Learn Score: 0.77\n",
      "Nayes Classifier Score: 0.77\n"
     ]
    }
   ],
   "source": [
    "sklearn_prediction = sklearn_classifier.predict(X_test)\n",
    "nayes_prediction = nayes.predict(X_test)\n",
    "\n",
    "sklearn_score = accuracy_score(sklearn_prediction, y_test)\n",
    "nayes_score = accuracy_score(nayes_prediction, y_test)\n",
    "\n",
    "print(f\"Scikit-Learn Score: {round(sklearn_score, 2)}\")\n",
    "print(f\"Nayes Classifier Score: {round(nayes_score, 2)}\")"
   ]
  },
  {
   "cell_type": "markdown",
   "metadata": {},
   "source": [
    "As we can see, the classifier holds it's own when put to the test against the sklearn library!"
   ]
  }
 ],
 "metadata": {
  "kernelspec": {
   "display_name": "Python3 (unit2)",
   "language": "python",
   "name": "unit2"
  },
  "language_info": {
   "codemirror_mode": {
    "name": "ipython",
    "version": 3
   },
   "file_extension": ".py",
   "mimetype": "text/x-python",
   "name": "python",
   "nbconvert_exporter": "python",
   "pygments_lexer": "ipython3",
   "version": "3.7.6"
  }
 },
 "nbformat": 4,
 "nbformat_minor": 4
}
